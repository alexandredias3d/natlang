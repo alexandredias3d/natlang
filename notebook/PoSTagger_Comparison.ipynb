{
 "cells": [
  {
   "cell_type": "code",
   "execution_count": 1,
   "metadata": {},
   "outputs": [],
   "source": [
    "%matplotlib agg\n",
    "import sys\n",
    "sys.path.append('..')"
   ]
  },
  {
   "cell_type": "code",
   "execution_count": 2,
   "metadata": {},
   "outputs": [],
   "source": [
    "import os\n",
    "from natlang.pos import Corpora, TaggerBuilder, Tagger"
   ]
  },
  {
   "cell_type": "markdown",
   "metadata": {},
   "source": [
    "### Initial setup\n",
    "\n",
    "Creates the folders to store the corpora and trained PoS taggers.  \n",
    "Defines a function to evaluate and test the given PoS tagger."
   ]
  },
  {
   "cell_type": "code",
   "execution_count": 3,
   "metadata": {},
   "outputs": [],
   "source": [
    "data_folder = '../data/corpus'\n",
    "model_folder = '../model/pos'\n",
    "\n",
    "os.makedirs(data_folder, exist_ok=True)\n",
    "os.makedirs(model_folder, exist_ok=True)\n",
    "\n",
    "def evaluate_and_save(name, tagger):\n",
    "    tagger.evaluate(corpora, filename=f'{model_folder}/{name}.pdf')\n",
    "    tagger.save(f'{model_folder}/{name}.json')"
   ]
  },
  {
   "cell_type": "markdown",
   "metadata": {},
   "source": [
    "### Corpora\n",
    "\n",
    "Loads three corpora to train and evaluate the PoS Taggers:\n",
    " - [MacMorpho](http://nilc.icmc.usp.br/macmorpho/)\n",
    " - [Floresta](https://www.linguateca.pt/Floresta/)\n",
    " - [LacioWeb](http://www.nilc.icmc.usp.br/nilc/tools/nilctaggers.html)\n",
    " \n",
    "Converts each of the corpus to the Universal Pos Tagset."
   ]
  },
  {
   "cell_type": "code",
   "execution_count": 6,
   "metadata": {
    "scrolled": false
   },
   "outputs": [
    {
     "name": "stdout",
     "output_type": "stream",
     "text": [
      "natlang.postagging.LacioWeb: did not find the given corpus on NLTK\n",
      "natlang.postagging.LacioWeb: found corpus locally, there is no need to download it\n",
      "natlang.postagging.LacioWeb: reading corpus previously mapped to universal tagset\n",
      "natlang.postagging.MacMorpho: found corpus locally, there is no need to download it\n",
      "natlang.postagging.MacMorpho: reading corpus previously mapped to universal tagset\n",
      "natlang.postagging.Floresta: found corpus locally, there is no need to download it\n",
      "natlang.postagging.Floresta: reading corpus previously mapped to universal tagset\n"
     ]
    }
   ],
   "source": [
    "corpora = Corpora(['lacioweb', 'macmorpho', 'floresta'], '../data/corpus')"
   ]
  },
  {
   "cell_type": "markdown",
   "metadata": {},
   "source": [
    "### DefaultTagger\n",
    "Creates and evaluates the DefaultTagger using the default tag NOUN."
   ]
  },
  {
   "cell_type": "code",
   "execution_count": null,
   "metadata": {},
   "outputs": [],
   "source": [
    "tagger = (\n",
    "    TaggerBuilder(corpora, safe=False)\n",
    "    .with_default()\n",
    "    .get_result()\n",
    ")\n",
    "evaluate_and_save('default', tagger)"
   ]
  },
  {
   "cell_type": "markdown",
   "metadata": {},
   "source": [
    "### UnigramTagger\n",
    "Creates and evaluates the UnigramTagger using the DefaultTagger as a backoff."
   ]
  },
  {
   "cell_type": "code",
   "execution_count": null,
   "metadata": {},
   "outputs": [],
   "source": [
    "tagger = (\n",
    "    TaggerBuilder(corpora, safe=False)\n",
    "    .with_default()\n",
    "    .with_unigram()\n",
    "    .get_result()\n",
    ")\n",
    "evaluate_and_save('unigram', tagger)"
   ]
  },
  {
   "cell_type": "markdown",
   "metadata": {},
   "source": [
    "### BigramTagger\n",
    "Creates and evaluates the BigramTagger using the UnigramTagger as a backoff."
   ]
  },
  {
   "cell_type": "code",
   "execution_count": null,
   "metadata": {},
   "outputs": [],
   "source": [
    "tagger = (\n",
    "    TaggerBuilder(corpora, safe=False)\n",
    "    .with_default()\n",
    "    .with_unigram()\n",
    "    .with_bigram()\n",
    "    .get_result()\n",
    ")\n",
    "evaluate_and_save('bigram', tagger)"
   ]
  },
  {
   "cell_type": "markdown",
   "metadata": {},
   "source": [
    "### TrigramTagger\n",
    "Creates and evaluates the TrigramTagger using the BigramTagger as a backoff."
   ]
  },
  {
   "cell_type": "code",
   "execution_count": null,
   "metadata": {},
   "outputs": [],
   "source": [
    "tagger = (\n",
    "    TaggerBuilder(corpora, safe=False)\n",
    "    .with_default()\n",
    "    .with_unigram()\n",
    "    .with_bigram()\n",
    "    .with_trigram()\n",
    "    .get_result()\n",
    ")\n",
    "evaluate_and_save('trigram', tagger)"
   ]
  },
  {
   "cell_type": "markdown",
   "metadata": {},
   "source": [
    "### TrigramTagger + RegexpTagger\n",
    "Creates and evaluates the TrigramTagger using the BigramTagger as a backoff. Includes the RegexpTagger in the sequence of backoff taggers, that only has a single regex for numbers."
   ]
  },
  {
   "cell_type": "code",
   "execution_count": null,
   "metadata": {},
   "outputs": [],
   "source": [
    "tagger = (\n",
    "    TaggerBuilder(corpora, safe=False)\n",
    "    .with_default()\n",
    "    .with_regex()\n",
    "    .with_unigram()\n",
    "    .with_bigram()\n",
    "    .with_trigram()\n",
    "    .get_result()\n",
    ")\n",
    "evaluate_and_save('regex', tagger)"
   ]
  },
  {
   "cell_type": "markdown",
   "metadata": {},
   "source": [
    "### TrigramTagger + RegexpTagger + AffixTagger\n",
    "Creates and evaluates the TrigramTagger using the BigramTagger as a backoff. Includes the RegexpTagger and AffixTaggers in the sequence of backoff taggers."
   ]
  },
  {
   "cell_type": "code",
   "execution_count": null,
   "metadata": {},
   "outputs": [],
   "source": [
    "tagger = (\n",
    "    TaggerBuilder(corpora, safe=False)\n",
    "    .with_default()\n",
    "    .with_regex()\n",
    "    .with_affix()\n",
    "    .with_unigram()\n",
    "    .with_bigram()\n",
    "    .with_trigram()\n",
    "    .get_result()\n",
    ")\n",
    "evaluate_and_save('affix', tagger)"
   ]
  },
  {
   "cell_type": "markdown",
   "metadata": {},
   "source": [
    "### 4-NgramTagger\n",
    "Creates and evaluates the 4-NgramTagger using the TrigramTagger as a backoff."
   ]
  },
  {
   "cell_type": "code",
   "execution_count": null,
   "metadata": {},
   "outputs": [],
   "source": [
    "tagger = (\n",
    "    TaggerBuilder(corpora, safe=False)\n",
    "    .with_default()\n",
    "    .with_regex()\n",
    "    .with_affix()\n",
    "    .with_unigram()\n",
    "    .with_bigram()\n",
    "    .with_trigram()\n",
    "    .with_ngram(4)\n",
    "    .get_result()\n",
    ")\n",
    "evaluate_and_save('4gram', tagger)"
   ]
  },
  {
   "cell_type": "markdown",
   "metadata": {},
   "source": [
    "### 5-NgramTagger\n",
    "Creates and evaluates the 5-NgramTagger using the 4-NgramTagger as a backoff."
   ]
  },
  {
   "cell_type": "code",
   "execution_count": null,
   "metadata": {},
   "outputs": [],
   "source": [
    "tagger = (\n",
    "    TaggerBuilder(corpora, safe=False)\n",
    "    .with_default()\n",
    "    .with_regex()\n",
    "    .with_affix()\n",
    "    .with_unigram()\n",
    "    .with_bigram()\n",
    "    .with_trigram()\n",
    "    .with_ngram(4)\n",
    "    .with_ngram(5)\n",
    "    .get_result()\n",
    ")\n",
    "evaluate_and_save('5gram', tagger)"
   ]
  },
  {
   "cell_type": "markdown",
   "metadata": {},
   "source": [
    "### BrillTagger\n",
    "Creates and evaluates the BrillTagger using the 5-NgramTagger as a backoff."
   ]
  },
  {
   "cell_type": "code",
   "execution_count": null,
   "metadata": {},
   "outputs": [],
   "source": [
    "tagger = (\n",
    "    TaggerBuilder(corpora, safe=False)\n",
    "    .with_default()\n",
    "    .with_regex()\n",
    "    .with_affix()\n",
    "    .with_unigram()\n",
    "    .with_bigram()\n",
    "    .with_trigram()\n",
    "    .with_ngram(4)\n",
    "    .with_ngram(5)\n",
    "    .with_brill()\n",
    "    .get_result()\n",
    ")\n",
    "evaluate_and_save('brill', tagger)"
   ]
  },
  {
   "cell_type": "markdown",
   "metadata": {},
   "source": [
    "### PerceptronTagger\n",
    "Creates and evaluates the PerceptronTagger alone."
   ]
  },
  {
   "cell_type": "code",
   "execution_count": 8,
   "metadata": {},
   "outputs": [],
   "source": [
    "tagger = (\n",
    "    TaggerBuilder(corpora, safe=False)\n",
    "    .with_perceptron()\n",
    "    .get_result()\n",
    ")\n",
    "evaluate_and_save('perceptron', tagger)"
   ]
  },
  {
   "cell_type": "markdown",
   "metadata": {},
   "source": [
    "### PerceptronTagger + BrillTagger\n",
    "Creates and evaluates the BrillTagger using the PerceptronTagger as the initial tagger."
   ]
  },
  {
   "cell_type": "code",
   "execution_count": 9,
   "metadata": {},
   "outputs": [],
   "source": [
    "tagger = (\n",
    "    TaggerBuilder(corpora, safe=False)\n",
    "    .with_perceptron()\n",
    "    .with_brill()\n",
    "    .get_result()\n",
    ")\n",
    "evaluate_and_save('perceptron_brill', tagger)"
   ]
  }
 ],
 "metadata": {
  "kernelspec": {
   "display_name": "Python 3",
   "language": "python",
   "name": "python3"
  },
  "language_info": {
   "codemirror_mode": {
    "name": "ipython",
    "version": 3
   },
   "file_extension": ".py",
   "mimetype": "text/x-python",
   "name": "python",
   "nbconvert_exporter": "python",
   "pygments_lexer": "ipython3",
   "version": "3.7.4"
  }
 },
 "nbformat": 4,
 "nbformat_minor": 2
}
